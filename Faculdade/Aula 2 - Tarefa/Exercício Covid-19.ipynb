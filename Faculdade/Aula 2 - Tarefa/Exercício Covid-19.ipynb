{
 "cells": [
  {
   "cell_type": "code",
   "execution_count": 3,
   "metadata": {},
   "outputs": [
    {
     "name": "stdout",
     "output_type": "stream",
     "text": [
      "Tosse:  True\n",
      "Febre:  False\n",
      "Dificuldade para respirar:  False\n",
      "Provaelmente é COVID-19:  False\n"
     ]
    }
   ],
   "source": [
    "# Exercício Covid-19\n",
    "\n",
    "# sintomas = bool(input(XXX)) - Transformando em Bool\n",
    "\n",
    "# Saida -- print(\"Tosse:\", tosse user)\n",
    "\n",
    "\n",
    "tosse = input(\"Digite Sim ou Não para o sintoma tosse\")\n",
    "tosse_bool = tosse == \"Sim\"\n",
    "\n",
    "febre = input(\"Digite Sim ou Não para o sintoma febre \")\n",
    "febre_bool = febre == \"Sim\"\n",
    "\n",
    "respirar = input(\"Digite Sim ou Não para o sintoma difículdade em respirar \")\n",
    "respirar_bool = respirar == \"Sim\"\n",
    "\n",
    "# result_bool = tosse_bool and febre_bool and respirar_bool == True\n",
    "result_bool = tosse_bool == True and febre_bool == True and respirar_bool == True\n",
    "\n",
    "# Foi utilizado o IF aqui no final, para traduzir tudo pro português \n",
    "\n",
    "if result_bool == False:\n",
    "    print(\"Você não está com Covid-19\")\n",
    "else:\n",
    "    print (\"Você está com Covid-19\")\n",
    "\n",
    "\n",
    "\n",
    "\n",
    "\n",
    "\n",
    "\n"
   ]
  }
 ],
 "metadata": {
  "kernelspec": {
   "display_name": "Python 3.10.6 64-bit",
   "language": "python",
   "name": "python3"
  },
  "language_info": {
   "codemirror_mode": {
    "name": "ipython",
    "version": 3
   },
   "file_extension": ".py",
   "mimetype": "text/x-python",
   "name": "python",
   "nbconvert_exporter": "python",
   "pygments_lexer": "ipython3",
   "version": "3.10.6"
  },
  "orig_nbformat": 4,
  "vscode": {
   "interpreter": {
    "hash": "8f8ac8b69c10e505c1c2cc927bde5139efdf4c9e68dd0a7d76476b8de1d85497"
   }
  }
 },
 "nbformat": 4,
 "nbformat_minor": 2
}
