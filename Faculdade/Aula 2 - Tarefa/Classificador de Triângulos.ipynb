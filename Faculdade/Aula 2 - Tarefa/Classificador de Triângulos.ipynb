{
 "cells": [
  {
   "cell_type": "code",
   "execution_count": 51,
   "metadata": {},
   "outputs": [
    {
     "name": "stdout",
     "output_type": "stream",
     "text": [
      "A medida de um dos lados não pode ser maior que a soma dos outros dois.\n"
     ]
    }
   ],
   "source": [
    "# Exercício 2, classificar triangulos.\n",
    "\n",
    "# Equilátero Três lados com medidas iguais\n",
    "# Isósceles Dois lados com medidas iguais\n",
    "# Escaleno Três lados com medidas diferentes\n",
    "# Acutângulo Três ângulos internos medem menos de 90°\n",
    "# Retângulo Um dos ângulos internos mede 90°\n",
    "# Obtusângulo Um dos ângulos internos mede mais de 90°\n",
    "\n",
    "\n",
    "# Valores inválidos \n",
    "# Nenhum lado pode ser negativo ou = a 0 \n",
    "\n",
    "\n",
    "# VARIAVEIS\n",
    "\n",
    "        \n",
    "l1 = float(input(\"Digite o primeiro e maior lado do triângulo: \"))\n",
    "l2 = float(input(\"Digite o segundo lado: \"))\n",
    "l3 = float(input(\"Digite o terceiro lado: \"))\n",
    "\n",
    "if (l1 >= (l2 + l3)) or (l2 >= (l1 + l3)) or (l3 >= (l2 + l1)):\n",
    "    print(\"A medida de um dos lados não pode ser maior que a soma dos outros dois.\")\n",
    "elif (l1 <= 0) or (l2 <=0) or (l3 <= 0):\n",
    "    print (\"Não existe triângulo com algum lado menor ou igual a zero.\")\n",
    "else:\n",
    "    if l1==l2:\n",
    "      if l1==l3:\n",
    "        print(\"Seu triângulo é Equilátero\")\n",
    "      else:\n",
    "        print(\"Seu triângulo é Isósceles\")  \n",
    "    if l1!=l2:\n",
    "      if l1==l3:\n",
    "        print(\"Seu triângulo é Isósceles\")\n",
    "      elif l2==l3:\n",
    "        print(\"Seu triângulo é Isósceles\")\n",
    "      else:\n",
    "        print(\"Seu triângulo é Escaleno\")\n",
    "    if (l1**2 == ((l2**2) + (l3**2))):\n",
    "        print(\"Seu triâgulo também é Retângulo\")\n",
    "    if (l1**2 < ((l2**2) + (l3**2))):  \n",
    "        print(\"Seu triâgulo também é Acutângulo\")\n",
    "    if (l1**2 > ((l2**2) + (l3**2))):\n",
    "        print(\"Seu triâgulo também é Obtusângulo\")\n",
    "   \n",
    "\n",
    "\n",
    "\n",
    "\n",
    "\n"
   ]
  }
 ],
 "metadata": {
  "kernelspec": {
   "display_name": "Python 3.10.6 64-bit",
   "language": "python",
   "name": "python3"
  },
  "language_info": {
   "codemirror_mode": {
    "name": "ipython",
    "version": 3
   },
   "file_extension": ".py",
   "mimetype": "text/x-python",
   "name": "python",
   "nbconvert_exporter": "python",
   "pygments_lexer": "ipython3",
   "version": "3.10.6"
  },
  "orig_nbformat": 4,
  "vscode": {
   "interpreter": {
    "hash": "8f8ac8b69c10e505c1c2cc927bde5139efdf4c9e68dd0a7d76476b8de1d85497"
   }
  }
 },
 "nbformat": 4,
 "nbformat_minor": 2
}
