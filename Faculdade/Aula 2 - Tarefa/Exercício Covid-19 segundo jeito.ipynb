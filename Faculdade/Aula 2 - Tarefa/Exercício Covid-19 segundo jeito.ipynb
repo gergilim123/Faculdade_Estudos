{
 "cells": [
  {
   "cell_type": "code",
   "execution_count": 1,
   "metadata": {},
   "outputs": [
    {
     "name": "stdout",
     "output_type": "stream",
     "text": [
      "Tosse:  True\n",
      "Febre:  True\n",
      "Dificuldade para respirar:  True\n",
      "Provaelmente é COVID-19:  True\n"
     ]
    }
   ],
   "source": [
    "#Exercicio 1, Covid-19\n",
    "\n",
    "# Variaveis, tranformando elas em tipo bool\n",
    "\n",
    "tosse = input('Tosse: ')\n",
    "bol_var = tosse == \"True\"\n",
    "tosse = bol_var\n",
    "\n",
    "febre = input('Febre: ')\n",
    "bol_var = febre == \"True\"\n",
    "febre = bol_var\n",
    "\n",
    "dificuldade = input('Dificuldade em respirar: ')\n",
    "bol_var = dificuldade == \"True\"\n",
    "dificuldade = bol_var\n",
    "\n",
    "sintomas = (febre == True) and (tosse == True) and (dificuldade == True)\n",
    "\n",
    "# sintomas = (febre and tosse and dificuldade)\n",
    "\n",
    "print(\"Tosse: \", tosse)\n",
    "print(\"Febre: \", febre)\n",
    "print(\"Dificuldade para respirar: \", dificuldade)\n",
    "print(\"Provaelmente é COVID-19: \", sintomas)"
   ]
  }
 ],
 "metadata": {
  "kernelspec": {
   "display_name": "Python 3.10.6 64-bit",
   "language": "python",
   "name": "python3"
  },
  "language_info": {
   "codemirror_mode": {
    "name": "ipython",
    "version": 3
   },
   "file_extension": ".py",
   "mimetype": "text/x-python",
   "name": "python",
   "nbconvert_exporter": "python",
   "pygments_lexer": "ipython3",
   "version": "3.10.6"
  },
  "orig_nbformat": 4,
  "vscode": {
   "interpreter": {
    "hash": "8f8ac8b69c10e505c1c2cc927bde5139efdf4c9e68dd0a7d76476b8de1d85497"
   }
  }
 },
 "nbformat": 4,
 "nbformat_minor": 2
}
