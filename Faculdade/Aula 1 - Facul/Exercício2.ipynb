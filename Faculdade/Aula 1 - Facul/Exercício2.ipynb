{
 "cells": [
  {
   "cell_type": "code",
   "execution_count": 28,
   "metadata": {},
   "outputs": [
    {
     "name": "stdout",
     "output_type": "stream",
     "text": [
      "O valor inicial da sua fatura é: R$  10000.00\n",
      "O valor da multa é: R$  200.00\n",
      "Juros: R$  198.00\n",
      "O valor tottal total da sua fatura é: R$  10398.00\n",
      "Pagamento minimo é de: R$  1039.80\n"
     ]
    }
   ],
   "source": [
    "#Exercício 2\n",
    "\n",
    "#Variavies\n",
    "\n",
    "valor = float(input('Digite o valor da sua fatura: '))\n",
    "dias_de_atraso = int(input('Digite os dias de atraso: '))\n",
    "multa = valor*(2/100)\n",
    "juros = valor*dias_de_atraso*(0.033/100)  \n",
    "valor_total = valor+multa+juros\n",
    "pagamento_minimo =  valor_total*(10/100)\n",
    "\n",
    "\n",
    "#Saida\n",
    "\n",
    "print(\"O valor inicial da sua fatura é: R$ \", format(valor, '.2f'))\n",
    "print (\"O valor da multa é: R$ \", format(multa, '.2f'))\n",
    "print (\"Juros: R$ \", format(juros, '.2f'))\n",
    "print (\"O valor tottal total da sua fatura é: R$ \", format(valor_total, '.2f'))\n",
    "print (\"Pagamento minimo é de: R$ \", format(pagamento_minimo, '.2f'))\n",
    "\n",
    "\n",
    "\n",
    "\n",
    "\n",
    "\n",
    "\n",
    "\n",
    "\n",
    "\n",
    "\n",
    "\n",
    "\n",
    "\n",
    "\n",
    "\n",
    "\n"
   ]
  }
 ],
 "metadata": {
  "kernelspec": {
   "display_name": "Python 3.10.6 64-bit",
   "language": "python",
   "name": "python3"
  },
  "language_info": {
   "codemirror_mode": {
    "name": "ipython",
    "version": 3
   },
   "file_extension": ".py",
   "mimetype": "text/x-python",
   "name": "python",
   "nbconvert_exporter": "python",
   "pygments_lexer": "ipython3",
   "version": "3.10.6"
  },
  "orig_nbformat": 4,
  "vscode": {
   "interpreter": {
    "hash": "8f8ac8b69c10e505c1c2cc927bde5139efdf4c9e68dd0a7d76476b8de1d85497"
   }
  }
 },
 "nbformat": 4,
 "nbformat_minor": 2
}
